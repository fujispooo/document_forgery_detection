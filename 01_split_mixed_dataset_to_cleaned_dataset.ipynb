{
 "cells": [
  {
   "cell_type": "markdown",
   "id": "cae0eb4a-36d3-4693-897b-636725aad470",
   "metadata": {},
   "source": [
    "## Export an Annotation Data and split status."
   ]
  },
  {
   "cell_type": "code",
   "execution_count": 87,
   "id": "056963d6-1764-4a91-bec8-55b269a1ce7f",
   "metadata": {
    "tags": []
   },
   "outputs": [],
   "source": [
    "import json\n",
    "from PIL import Image\n",
    "from matplotlib import pyplot as plt\n",
    "import pandas as pd\n",
    "import sys\n",
    "import ast\n",
    "import shutil"
   ]
  },
  {
   "cell_type": "markdown",
   "id": "e9555422-b510-44e3-ab3a-cbb286425399",
   "metadata": {},
   "source": [
    "### 1. Fetch DataSet\n",
    "---"
   ]
  },
  {
   "cell_type": "code",
   "execution_count": 8,
   "id": "edfd894b-6b47-4cef-bd0f-823c921e2dd1",
   "metadata": {
    "tags": []
   },
   "outputs": [],
   "source": [
    "# テキストファイルのパスを指定します\n",
    "file_path_infos = [{\"file_path\":\"dataset/findit2/train.txt\", \"data_name\": \"train\"},\n",
    "                  {\"file_path\":\"dataset/findit2/test.txt\", \"data_name\": \"test\"},\n",
    "                  {\"file_path\":\"dataset/findit2/val.txt\", \"data_name\": \"val\"}\n",
    "                 ]\n",
    "\n",
    "# タブ区切りの場合\n",
    "datas = []\n",
    "for file_path_info in file_path_infos:\n",
    "    datas.append(pd.read_csv(file_path_info[\"file_path\"], delimiter=','))"
   ]
  },
  {
   "cell_type": "code",
   "execution_count": 35,
   "id": "1d0558ad-d361-48dc-8ae1-ec7ff8e1214a",
   "metadata": {
    "tags": []
   },
   "outputs": [
    {
     "name": "stdout",
     "output_type": "stream",
     "text": [
      "■train\n",
      "Having annotations count : 94\n",
      "Not Having annotations count : 483\n",
      "■test\n",
      "Having annotations count : 35\n",
      "Not Having annotations count : 183\n",
      "■val\n",
      "Having annotations count : 34\n",
      "Not Having annotations count : 159\n"
     ]
    }
   ],
   "source": [
    "datasets = {}\n",
    "for df, info in zip(datas, file_path_infos):\n",
    "    df_having_annotations = df[df[\"forgery annotations\"]!=\"0\"]\n",
    "    df_not_having_annotations = df[df[\"forgery annotations\"]==\"0\"]\n",
    "    \n",
    "    datasets[info[\"data_name\"]] = {\n",
    "        \"hv_annotations\": df_having_annotations,\n",
    "        \"not_hv_annotations\": df_not_having_annotations\n",
    "    }\n",
    "    \n",
    "    \"\"\"\n",
    "    show data records:\n",
    "    \"\"\"\n",
    "    print(\"■\" + info[\"data_name\"])\n",
    "    print(\"Having annotations count : \" + str(len(df_having_annotations)))\n",
    "    print(\"Not Having annotations count : \" + str(len(df_not_having_annotations)))"
   ]
  },
  {
   "cell_type": "markdown",
   "id": "9a44203c-570d-4d42-b898-867abf02c470",
   "metadata": {},
   "source": [
    "#### Show DataFrame Sample"
   ]
  },
  {
   "cell_type": "code",
   "execution_count": 28,
   "id": "342c3bde-e1fb-4c34-b1ae-22e56e5a0119",
   "metadata": {
    "tags": []
   },
   "outputs": [
    {
     "data": {
      "text/html": [
       "<div>\n",
       "<style scoped>\n",
       "    .dataframe tbody tr th:only-of-type {\n",
       "        vertical-align: middle;\n",
       "    }\n",
       "\n",
       "    .dataframe tbody tr th {\n",
       "        vertical-align: top;\n",
       "    }\n",
       "\n",
       "    .dataframe thead th {\n",
       "        text-align: right;\n",
       "    }\n",
       "</style>\n",
       "<table border=\"1\" class=\"dataframe\">\n",
       "  <thead>\n",
       "    <tr style=\"text-align: right;\">\n",
       "      <th></th>\n",
       "      <th>image</th>\n",
       "      <th>digital annotation</th>\n",
       "      <th>handwritten annotation</th>\n",
       "      <th>forged</th>\n",
       "      <th>forgery annotations</th>\n",
       "    </tr>\n",
       "  </thead>\n",
       "  <tbody>\n",
       "    <tr>\n",
       "      <th>0</th>\n",
       "      <td>X00016469622.png</td>\n",
       "      <td>1</td>\n",
       "      <td>1</td>\n",
       "      <td>1</td>\n",
       "      <td>{'filename': 'X00016469622.png', 'size': 23072...</td>\n",
       "    </tr>\n",
       "    <tr>\n",
       "      <th>6</th>\n",
       "      <td>X51005230617.png</td>\n",
       "      <td>0</td>\n",
       "      <td>1</td>\n",
       "      <td>1</td>\n",
       "      <td>{'filename': 'X51005230617.png', 'size': 79672...</td>\n",
       "    </tr>\n",
       "    <tr>\n",
       "      <th>25</th>\n",
       "      <td>X51005361906.png</td>\n",
       "      <td>0</td>\n",
       "      <td>1</td>\n",
       "      <td>1</td>\n",
       "      <td>{'filename': 'X51005361906.png', 'size': 38813...</td>\n",
       "    </tr>\n",
       "    <tr>\n",
       "      <th>30</th>\n",
       "      <td>X51005361946.png</td>\n",
       "      <td>0</td>\n",
       "      <td>1</td>\n",
       "      <td>1</td>\n",
       "      <td>{'filename': 'X51005361946.png', 'size': 77602...</td>\n",
       "    </tr>\n",
       "    <tr>\n",
       "      <th>32</th>\n",
       "      <td>X51005365179.png</td>\n",
       "      <td>1</td>\n",
       "      <td>0</td>\n",
       "      <td>1</td>\n",
       "      <td>{'filename': 'X51005365179.png', 'size': 40184...</td>\n",
       "    </tr>\n",
       "    <tr>\n",
       "      <th>...</th>\n",
       "      <td>...</td>\n",
       "      <td>...</td>\n",
       "      <td>...</td>\n",
       "      <td>...</td>\n",
       "      <td>...</td>\n",
       "    </tr>\n",
       "    <tr>\n",
       "      <th>557</th>\n",
       "      <td>X51008142031.png</td>\n",
       "      <td>0</td>\n",
       "      <td>0</td>\n",
       "      <td>1</td>\n",
       "      <td>{'filename': 'X51008142031.png', 'size': 64162...</td>\n",
       "    </tr>\n",
       "    <tr>\n",
       "      <th>560</th>\n",
       "      <td>X51008142063.png</td>\n",
       "      <td>0</td>\n",
       "      <td>0</td>\n",
       "      <td>1</td>\n",
       "      <td>{'filename': 'X51008142063.png', 'size': 69819...</td>\n",
       "    </tr>\n",
       "    <tr>\n",
       "      <th>569</th>\n",
       "      <td>X51008164998.png</td>\n",
       "      <td>0</td>\n",
       "      <td>0</td>\n",
       "      <td>1</td>\n",
       "      <td>{'filename': 'X51008164998.png', 'size': 13113...</td>\n",
       "    </tr>\n",
       "    <tr>\n",
       "      <th>570</th>\n",
       "      <td>X51009447842.png</td>\n",
       "      <td>0</td>\n",
       "      <td>0</td>\n",
       "      <td>1</td>\n",
       "      <td>{'filename': 'X51009447842.png', 'size': 67002...</td>\n",
       "    </tr>\n",
       "    <tr>\n",
       "      <th>575</th>\n",
       "      <td>X51006619709.png</td>\n",
       "      <td>0</td>\n",
       "      <td>0</td>\n",
       "      <td>0</td>\n",
       "      <td>{'filename': 'X51006619709.png', 'size': 10218...</td>\n",
       "    </tr>\n",
       "  </tbody>\n",
       "</table>\n",
       "<p>94 rows × 5 columns</p>\n",
       "</div>"
      ],
      "text/plain": [
       "                image  digital annotation  handwritten annotation  forged  \\\n",
       "0    X00016469622.png                   1                       1       1   \n",
       "6    X51005230617.png                   0                       1       1   \n",
       "25   X51005361906.png                   0                       1       1   \n",
       "30   X51005361946.png                   0                       1       1   \n",
       "32   X51005365179.png                   1                       0       1   \n",
       "..                ...                 ...                     ...     ...   \n",
       "557  X51008142031.png                   0                       0       1   \n",
       "560  X51008142063.png                   0                       0       1   \n",
       "569  X51008164998.png                   0                       0       1   \n",
       "570  X51009447842.png                   0                       0       1   \n",
       "575  X51006619709.png                   0                       0       0   \n",
       "\n",
       "                                   forgery annotations  \n",
       "0    {'filename': 'X00016469622.png', 'size': 23072...  \n",
       "6    {'filename': 'X51005230617.png', 'size': 79672...  \n",
       "25   {'filename': 'X51005361906.png', 'size': 38813...  \n",
       "30   {'filename': 'X51005361946.png', 'size': 77602...  \n",
       "32   {'filename': 'X51005365179.png', 'size': 40184...  \n",
       "..                                                 ...  \n",
       "557  {'filename': 'X51008142031.png', 'size': 64162...  \n",
       "560  {'filename': 'X51008142063.png', 'size': 69819...  \n",
       "569  {'filename': 'X51008164998.png', 'size': 13113...  \n",
       "570  {'filename': 'X51009447842.png', 'size': 67002...  \n",
       "575  {'filename': 'X51006619709.png', 'size': 10218...  \n",
       "\n",
       "[94 rows x 5 columns]"
      ]
     },
     "execution_count": 28,
     "metadata": {},
     "output_type": "execute_result"
    }
   ],
   "source": [
    "datasets[\"train\"][\"hv_annotations\"]"
   ]
  },
  {
   "cell_type": "code",
   "execution_count": 93,
   "id": "b2f7b654-5234-4ba6-9d9e-3159956d3335",
   "metadata": {
    "tags": []
   },
   "outputs": [
    {
     "data": {
      "text/html": [
       "<div>\n",
       "<style scoped>\n",
       "    .dataframe tbody tr th:only-of-type {\n",
       "        vertical-align: middle;\n",
       "    }\n",
       "\n",
       "    .dataframe tbody tr th {\n",
       "        vertical-align: top;\n",
       "    }\n",
       "\n",
       "    .dataframe thead th {\n",
       "        text-align: right;\n",
       "    }\n",
       "</style>\n",
       "<table border=\"1\" class=\"dataframe\">\n",
       "  <thead>\n",
       "    <tr style=\"text-align: right;\">\n",
       "      <th></th>\n",
       "      <th>image</th>\n",
       "      <th>digital annotation</th>\n",
       "      <th>handwritten annotation</th>\n",
       "      <th>forged</th>\n",
       "      <th>forgery annotations</th>\n",
       "    </tr>\n",
       "  </thead>\n",
       "  <tbody>\n",
       "    <tr>\n",
       "      <th>1</th>\n",
       "      <td>X00016469623.png</td>\n",
       "      <td>1</td>\n",
       "      <td>1</td>\n",
       "      <td>0</td>\n",
       "      <td>0</td>\n",
       "    </tr>\n",
       "    <tr>\n",
       "      <th>2</th>\n",
       "      <td>X00016469670.png</td>\n",
       "      <td>1</td>\n",
       "      <td>1</td>\n",
       "      <td>0</td>\n",
       "      <td>0</td>\n",
       "    </tr>\n",
       "    <tr>\n",
       "      <th>3</th>\n",
       "      <td>X00016469671.png</td>\n",
       "      <td>1</td>\n",
       "      <td>1</td>\n",
       "      <td>0</td>\n",
       "      <td>0</td>\n",
       "    </tr>\n",
       "    <tr>\n",
       "      <th>4</th>\n",
       "      <td>X00016469672.png</td>\n",
       "      <td>1</td>\n",
       "      <td>1</td>\n",
       "      <td>0</td>\n",
       "      <td>0</td>\n",
       "    </tr>\n",
       "    <tr>\n",
       "      <th>5</th>\n",
       "      <td>X51005200938.png</td>\n",
       "      <td>0</td>\n",
       "      <td>1</td>\n",
       "      <td>0</td>\n",
       "      <td>0</td>\n",
       "    </tr>\n",
       "    <tr>\n",
       "      <th>...</th>\n",
       "      <td>...</td>\n",
       "      <td>...</td>\n",
       "      <td>...</td>\n",
       "      <td>...</td>\n",
       "      <td>...</td>\n",
       "    </tr>\n",
       "    <tr>\n",
       "      <th>571</th>\n",
       "      <td>X51009453729.png</td>\n",
       "      <td>1</td>\n",
       "      <td>1</td>\n",
       "      <td>0</td>\n",
       "      <td>0</td>\n",
       "    </tr>\n",
       "    <tr>\n",
       "      <th>572</th>\n",
       "      <td>X51009453801.png</td>\n",
       "      <td>1</td>\n",
       "      <td>0</td>\n",
       "      <td>0</td>\n",
       "      <td>0</td>\n",
       "    </tr>\n",
       "    <tr>\n",
       "      <th>573</th>\n",
       "      <td>X51009453804.png</td>\n",
       "      <td>1</td>\n",
       "      <td>1</td>\n",
       "      <td>0</td>\n",
       "      <td>0</td>\n",
       "    </tr>\n",
       "    <tr>\n",
       "      <th>574</th>\n",
       "      <td>X51009568881.png</td>\n",
       "      <td>0</td>\n",
       "      <td>0</td>\n",
       "      <td>0</td>\n",
       "      <td>0</td>\n",
       "    </tr>\n",
       "    <tr>\n",
       "      <th>576</th>\n",
       "      <td>X51006619570.png</td>\n",
       "      <td>0</td>\n",
       "      <td>0</td>\n",
       "      <td>0</td>\n",
       "      <td>0</td>\n",
       "    </tr>\n",
       "  </tbody>\n",
       "</table>\n",
       "<p>483 rows × 5 columns</p>\n",
       "</div>"
      ],
      "text/plain": [
       "                image  digital annotation  handwritten annotation  forged  \\\n",
       "1    X00016469623.png                   1                       1       0   \n",
       "2    X00016469670.png                   1                       1       0   \n",
       "3    X00016469671.png                   1                       1       0   \n",
       "4    X00016469672.png                   1                       1       0   \n",
       "5    X51005200938.png                   0                       1       0   \n",
       "..                ...                 ...                     ...     ...   \n",
       "571  X51009453729.png                   1                       1       0   \n",
       "572  X51009453801.png                   1                       0       0   \n",
       "573  X51009453804.png                   1                       1       0   \n",
       "574  X51009568881.png                   0                       0       0   \n",
       "576  X51006619570.png                   0                       0       0   \n",
       "\n",
       "    forgery annotations  \n",
       "1                     0  \n",
       "2                     0  \n",
       "3                     0  \n",
       "4                     0  \n",
       "5                     0  \n",
       "..                  ...  \n",
       "571                   0  \n",
       "572                   0  \n",
       "573                   0  \n",
       "574                   0  \n",
       "576                   0  \n",
       "\n",
       "[483 rows x 5 columns]"
      ]
     },
     "execution_count": 93,
     "metadata": {},
     "output_type": "execute_result"
    }
   ],
   "source": [
    "datasets[\"train\"][\"not_hv_annotations\"]"
   ]
  },
  {
   "cell_type": "code",
   "execution_count": 80,
   "id": "0545ec4d-871a-43c8-8263-906f3243d97b",
   "metadata": {
    "tags": []
   },
   "outputs": [
    {
     "name": "stdout",
     "output_type": "stream",
     "text": [
      "<class 'pandas.core.frame.DataFrame'>\n",
      "Int64Index: 94 entries, 0 to 575\n",
      "Data columns (total 5 columns):\n",
      " #   Column                  Non-Null Count  Dtype \n",
      "---  ------                  --------------  ----- \n",
      " 0   image                   94 non-null     object\n",
      " 1   digital annotation      94 non-null     int64 \n",
      " 2   handwritten annotation  94 non-null     int64 \n",
      " 3   forged                  94 non-null     int64 \n",
      " 4   forgery annotations     94 non-null     object\n",
      "dtypes: int64(3), object(2)\n",
      "memory usage: 6.5+ KB\n"
     ]
    }
   ],
   "source": [
    "datasets[\"train\"][\"hv_annotations\"].info()"
   ]
  },
  {
   "cell_type": "code",
   "execution_count": 88,
   "id": "05a69fb9-f93f-4030-9573-5eff8f9f84d9",
   "metadata": {
    "tags": []
   },
   "outputs": [],
   "source": [
    "def move_file(source_path, destination_path):\n",
    "    try:\n",
    "        shutil.move(source_path, destination_path)\n",
    "        print(\"ファイルが移動されました。\")\n",
    "    except FileNotFoundError:\n",
    "        print(\"移動元のファイルが見つかりません。\")\n",
    "    except PermissionError:\n",
    "        print(\"移動元または移動先のファイルにアクセス権がありません。\")\n",
    "    except Exception as e:\n",
    "        print(f\"エラーが発生しました: {e}\")"
   ]
  },
  {
   "cell_type": "code",
   "execution_count": 98,
   "id": "e3bfdca3-f6b3-4082-80e7-1c0594b5f59c",
   "metadata": {
    "tags": []
   },
   "outputs": [
    {
     "name": "stdout",
     "output_type": "stream",
     "text": [
      "dataset/findit2/test/X51005230616.png\n",
      "ファイルが移動されました。\n",
      "dataset/findit2/test/X51005433556.png\n",
      "ファイルが移動されました。\n",
      "dataset/findit2/test/X51005442361.png\n",
      "ファイルが移動されました。\n",
      "dataset/findit2/test/X51005447851.png\n",
      "ファイルが移動されました。\n",
      "dataset/findit2/test/X51005447853.png\n",
      "ファイルが移動されました。\n",
      "dataset/findit2/test/X51005568866.png\n",
      "ファイルが移動されました。\n",
      "dataset/findit2/test/X51005605295.png\n",
      "ファイルが移動されました。\n",
      "dataset/findit2/test/X51005676541.png\n",
      "ファイルが移動されました。\n",
      "dataset/findit2/test/X51005676546.png\n",
      "ファイルが移動されました。\n",
      "dataset/findit2/test/X51005705729.png\n",
      "ファイルが移動されました。\n",
      "dataset/findit2/test/X51005711402.png\n",
      "ファイルが移動されました。\n",
      "dataset/findit2/test/X51005757243.png\n",
      "ファイルが移動されました。\n",
      "dataset/findit2/test/X51005757349.png\n",
      "ファイルが移動されました。\n",
      "dataset/findit2/test/X51006008206.png\n",
      "ファイルが移動されました。\n",
      "dataset/findit2/test/X51006329183.png\n",
      "ファイルが移動されました。\n",
      "dataset/findit2/test/X51006388044.png\n",
      "ファイルが移動されました。\n",
      "dataset/findit2/test/X51006401977.png\n",
      "ファイルが移動されました。\n",
      "dataset/findit2/test/X51006414715.png\n",
      "ファイルが移動されました。\n",
      "dataset/findit2/test/X51006556603.png\n",
      "ファイルが移動されました。\n",
      "dataset/findit2/test/X51006556726.png\n",
      "ファイルが移動されました。\n",
      "dataset/findit2/test/X51006556865.png\n",
      "ファイルが移動されました。\n",
      "dataset/findit2/test/X51006557117.png\n",
      "ファイルが移動されました。\n",
      "dataset/findit2/test/X51006557195.png\n",
      "ファイルが移動されました。\n",
      "dataset/findit2/test/X51006620182.png\n",
      "ファイルが移動されました。\n",
      "dataset/findit2/test/X51006913023.png\n",
      "ファイルが移動されました。\n",
      "dataset/findit2/test/X51007103639.png\n",
      "ファイルが移動されました。\n",
      "dataset/findit2/test/X51007103688.png\n",
      "ファイルが移動されました。\n",
      "dataset/findit2/test/X51007231361.png\n",
      "ファイルが移動されました。\n",
      "dataset/findit2/test/X51007339107.png\n",
      "ファイルが移動されました。\n",
      "dataset/findit2/test/X51007579714.png\n",
      "ファイルが移動されました。\n",
      "dataset/findit2/test/X51007846357.png\n",
      "ファイルが移動されました。\n",
      "dataset/findit2/test/X51008099081.png\n",
      "ファイルが移動されました。\n",
      "dataset/findit2/test/X51008123447.png\n",
      "ファイルが移動されました。\n",
      "dataset/findit2/test/X51008123451.png\n",
      "ファイルが移動されました。\n",
      "dataset/findit2/test/X51008142038.png\n",
      "ファイルが移動されました。\n"
     ]
    }
   ],
   "source": [
    "dataset_dir = \"dataset/findit2/test/\"\n",
    "list_filename = list(datasets[\"test\"][\"hv_annotations\"][\"image\"])\n",
    "list_is_forged = list(datasets[\"test\"][\"hv_annotations\"][\"forged\"])\n",
    "\n",
    "for filename, is_forged in zip(list_filename, list_is_forged):\n",
    "    source_path = dataset_dir + filename\n",
    "    if is_forged == 1:\n",
    "        destination_path = dataset_dir + \"/forged/\" + filename\n",
    "    else:\n",
    "        destination_path = dataset_dir + \"/not_forged/\" + filename\n",
    "    print(source_path)\n",
    "    move_file(source_path, destination_path)"
   ]
  },
  {
   "cell_type": "markdown",
   "id": "a4cba7a6-b22a-4dff-a08b-54796722fda3",
   "metadata": {},
   "source": [
    "## 2. cast string annotation data to json data"
   ]
  },
  {
   "cell_type": "code",
   "execution_count": 68,
   "id": "a6e599bf-f63e-4c07-adf8-cd996cb8d0dd",
   "metadata": {
    "tags": []
   },
   "outputs": [],
   "source": [
    "list_forgery_annotations = list(datasets[\"train\"][\"hv_annotations\"][\"forgery annotations\"])\n",
    "# to list data"
   ]
  },
  {
   "cell_type": "code",
   "execution_count": 75,
   "id": "9efcfb28-a8a6-47be-9c25-addd4d659281",
   "metadata": {
    "tags": []
   },
   "outputs": [],
   "source": [
    "dict_forgery_annotations = {}\n",
    "for raw_annotation in list_forgery_annotations:\n",
    "    dict_annotation = ast.literal_eval(raw_annotation)\n",
    "    file_name = dict_annotation[\"filename\"]\n",
    "    dict_forgery_annotations[file_name] = dict_annotation"
   ]
  },
  {
   "cell_type": "markdown",
   "id": "6de408f1-f66d-48ba-bf27-e083cf97d82b",
   "metadata": {},
   "source": [
    "### 3. Annotaion\n",
    "---"
   ]
  },
  {
   "cell_type": "code",
   "execution_count": 2,
   "id": "6dc4e49d-b50f-44e5-8cc9-b2d68fe926e6",
   "metadata": {
    "tags": []
   },
   "outputs": [],
   "source": [
    "def label_images_with_annotations(json_file_path, images_folder_path):\n",
    "    with open(json_file_path, 'r') as json_file:\n",
    "        data = json.load(json_file)\n",
    "\n",
    "    for filename, image_info in data.items():\n",
    "        image_path = images_folder_path + '/' + filename\n",
    "        image = Image.open(image_path)\n",
    "        plt.imshow(image)\n",
    "        plt.axis('off')\n",
    "\n",
    "        annotations = image_info['regions']\n",
    "        for annotation in annotations:\n",
    "            region_attributes = annotation['region_attributes']\n",
    "            # ここでアノテーション情報を使って必要な処理を行う\n",
    "            # 例えば、ラベルを取得して描画するなど\n",
    "        plt.show()"
   ]
  },
  {
   "cell_type": "code",
   "execution_count": 3,
   "id": "ca2da8a7-6165-4881-8bfe-6208f2f1f803",
   "metadata": {
    "tags": []
   },
   "outputs": [
    {
     "ename": "JSONDecodeError",
     "evalue": "Expecting value: line 1 column 1 (char 0)",
     "output_type": "error",
     "traceback": [
      "\u001b[0;31m---------------------------------------------------------------------------\u001b[0m",
      "\u001b[0;31mJSONDecodeError\u001b[0m                           Traceback (most recent call last)",
      "Cell \u001b[0;32mIn[3], line 1\u001b[0m\n\u001b[0;32m----> 1\u001b[0m \u001b[43mlabel_images_with_annotations\u001b[49m\u001b[43m(\u001b[49m\u001b[38;5;124;43m\"\u001b[39;49m\u001b[38;5;124;43mdataset/findit2/train.txt\u001b[39;49m\u001b[38;5;124;43m\"\u001b[39;49m\u001b[43m,\u001b[49m\u001b[43m \u001b[49m\u001b[38;5;124;43m\"\u001b[39;49m\u001b[38;5;124;43mdataset/findit2/train\u001b[39;49m\u001b[38;5;124;43m\"\u001b[39;49m\u001b[43m)\u001b[49m\n",
      "Cell \u001b[0;32mIn[2], line 3\u001b[0m, in \u001b[0;36mlabel_images_with_annotations\u001b[0;34m(json_file_path, images_folder_path)\u001b[0m\n\u001b[1;32m      1\u001b[0m \u001b[38;5;28;01mdef\u001b[39;00m \u001b[38;5;21mlabel_images_with_annotations\u001b[39m(json_file_path, images_folder_path):\n\u001b[1;32m      2\u001b[0m     \u001b[38;5;28;01mwith\u001b[39;00m \u001b[38;5;28mopen\u001b[39m(json_file_path, \u001b[38;5;124m'\u001b[39m\u001b[38;5;124mr\u001b[39m\u001b[38;5;124m'\u001b[39m) \u001b[38;5;28;01mas\u001b[39;00m json_file:\n\u001b[0;32m----> 3\u001b[0m         data \u001b[38;5;241m=\u001b[39m \u001b[43mjson\u001b[49m\u001b[38;5;241;43m.\u001b[39;49m\u001b[43mload\u001b[49m\u001b[43m(\u001b[49m\u001b[43mjson_file\u001b[49m\u001b[43m)\u001b[49m\n\u001b[1;32m      5\u001b[0m     \u001b[38;5;28;01mfor\u001b[39;00m filename, image_info \u001b[38;5;129;01min\u001b[39;00m data\u001b[38;5;241m.\u001b[39mitems():\n\u001b[1;32m      6\u001b[0m         image_path \u001b[38;5;241m=\u001b[39m images_folder_path \u001b[38;5;241m+\u001b[39m \u001b[38;5;124m'\u001b[39m\u001b[38;5;124m/\u001b[39m\u001b[38;5;124m'\u001b[39m \u001b[38;5;241m+\u001b[39m filename\n",
      "File \u001b[0;32m~/anaconda3/envs/fraud_detection/lib/python3.9/json/__init__.py:293\u001b[0m, in \u001b[0;36mload\u001b[0;34m(fp, cls, object_hook, parse_float, parse_int, parse_constant, object_pairs_hook, **kw)\u001b[0m\n\u001b[1;32m    274\u001b[0m \u001b[38;5;28;01mdef\u001b[39;00m \u001b[38;5;21mload\u001b[39m(fp, \u001b[38;5;241m*\u001b[39m, \u001b[38;5;28mcls\u001b[39m\u001b[38;5;241m=\u001b[39m\u001b[38;5;28;01mNone\u001b[39;00m, object_hook\u001b[38;5;241m=\u001b[39m\u001b[38;5;28;01mNone\u001b[39;00m, parse_float\u001b[38;5;241m=\u001b[39m\u001b[38;5;28;01mNone\u001b[39;00m,\n\u001b[1;32m    275\u001b[0m         parse_int\u001b[38;5;241m=\u001b[39m\u001b[38;5;28;01mNone\u001b[39;00m, parse_constant\u001b[38;5;241m=\u001b[39m\u001b[38;5;28;01mNone\u001b[39;00m, object_pairs_hook\u001b[38;5;241m=\u001b[39m\u001b[38;5;28;01mNone\u001b[39;00m, \u001b[38;5;241m*\u001b[39m\u001b[38;5;241m*\u001b[39mkw):\n\u001b[1;32m    276\u001b[0m \u001b[38;5;250m    \u001b[39m\u001b[38;5;124;03m\"\"\"Deserialize ``fp`` (a ``.read()``-supporting file-like object containing\u001b[39;00m\n\u001b[1;32m    277\u001b[0m \u001b[38;5;124;03m    a JSON document) to a Python object.\u001b[39;00m\n\u001b[1;32m    278\u001b[0m \n\u001b[0;32m   (...)\u001b[0m\n\u001b[1;32m    291\u001b[0m \u001b[38;5;124;03m    kwarg; otherwise ``JSONDecoder`` is used.\u001b[39;00m\n\u001b[1;32m    292\u001b[0m \u001b[38;5;124;03m    \"\"\"\u001b[39;00m\n\u001b[0;32m--> 293\u001b[0m     \u001b[38;5;28;01mreturn\u001b[39;00m \u001b[43mloads\u001b[49m\u001b[43m(\u001b[49m\u001b[43mfp\u001b[49m\u001b[38;5;241;43m.\u001b[39;49m\u001b[43mread\u001b[49m\u001b[43m(\u001b[49m\u001b[43m)\u001b[49m\u001b[43m,\u001b[49m\n\u001b[1;32m    294\u001b[0m \u001b[43m        \u001b[49m\u001b[38;5;28;43mcls\u001b[39;49m\u001b[38;5;241;43m=\u001b[39;49m\u001b[38;5;28;43mcls\u001b[39;49m\u001b[43m,\u001b[49m\u001b[43m \u001b[49m\u001b[43mobject_hook\u001b[49m\u001b[38;5;241;43m=\u001b[39;49m\u001b[43mobject_hook\u001b[49m\u001b[43m,\u001b[49m\n\u001b[1;32m    295\u001b[0m \u001b[43m        \u001b[49m\u001b[43mparse_float\u001b[49m\u001b[38;5;241;43m=\u001b[39;49m\u001b[43mparse_float\u001b[49m\u001b[43m,\u001b[49m\u001b[43m \u001b[49m\u001b[43mparse_int\u001b[49m\u001b[38;5;241;43m=\u001b[39;49m\u001b[43mparse_int\u001b[49m\u001b[43m,\u001b[49m\n\u001b[1;32m    296\u001b[0m \u001b[43m        \u001b[49m\u001b[43mparse_constant\u001b[49m\u001b[38;5;241;43m=\u001b[39;49m\u001b[43mparse_constant\u001b[49m\u001b[43m,\u001b[49m\u001b[43m \u001b[49m\u001b[43mobject_pairs_hook\u001b[49m\u001b[38;5;241;43m=\u001b[39;49m\u001b[43mobject_pairs_hook\u001b[49m\u001b[43m,\u001b[49m\u001b[43m \u001b[49m\u001b[38;5;241;43m*\u001b[39;49m\u001b[38;5;241;43m*\u001b[39;49m\u001b[43mkw\u001b[49m\u001b[43m)\u001b[49m\n",
      "File \u001b[0;32m~/anaconda3/envs/fraud_detection/lib/python3.9/json/__init__.py:346\u001b[0m, in \u001b[0;36mloads\u001b[0;34m(s, cls, object_hook, parse_float, parse_int, parse_constant, object_pairs_hook, **kw)\u001b[0m\n\u001b[1;32m    341\u001b[0m     s \u001b[38;5;241m=\u001b[39m s\u001b[38;5;241m.\u001b[39mdecode(detect_encoding(s), \u001b[38;5;124m'\u001b[39m\u001b[38;5;124msurrogatepass\u001b[39m\u001b[38;5;124m'\u001b[39m)\n\u001b[1;32m    343\u001b[0m \u001b[38;5;28;01mif\u001b[39;00m (\u001b[38;5;28mcls\u001b[39m \u001b[38;5;129;01mis\u001b[39;00m \u001b[38;5;28;01mNone\u001b[39;00m \u001b[38;5;129;01mand\u001b[39;00m object_hook \u001b[38;5;129;01mis\u001b[39;00m \u001b[38;5;28;01mNone\u001b[39;00m \u001b[38;5;129;01mand\u001b[39;00m\n\u001b[1;32m    344\u001b[0m         parse_int \u001b[38;5;129;01mis\u001b[39;00m \u001b[38;5;28;01mNone\u001b[39;00m \u001b[38;5;129;01mand\u001b[39;00m parse_float \u001b[38;5;129;01mis\u001b[39;00m \u001b[38;5;28;01mNone\u001b[39;00m \u001b[38;5;129;01mand\u001b[39;00m\n\u001b[1;32m    345\u001b[0m         parse_constant \u001b[38;5;129;01mis\u001b[39;00m \u001b[38;5;28;01mNone\u001b[39;00m \u001b[38;5;129;01mand\u001b[39;00m object_pairs_hook \u001b[38;5;129;01mis\u001b[39;00m \u001b[38;5;28;01mNone\u001b[39;00m \u001b[38;5;129;01mand\u001b[39;00m \u001b[38;5;129;01mnot\u001b[39;00m kw):\n\u001b[0;32m--> 346\u001b[0m     \u001b[38;5;28;01mreturn\u001b[39;00m \u001b[43m_default_decoder\u001b[49m\u001b[38;5;241;43m.\u001b[39;49m\u001b[43mdecode\u001b[49m\u001b[43m(\u001b[49m\u001b[43ms\u001b[49m\u001b[43m)\u001b[49m\n\u001b[1;32m    347\u001b[0m \u001b[38;5;28;01mif\u001b[39;00m \u001b[38;5;28mcls\u001b[39m \u001b[38;5;129;01mis\u001b[39;00m \u001b[38;5;28;01mNone\u001b[39;00m:\n\u001b[1;32m    348\u001b[0m     \u001b[38;5;28mcls\u001b[39m \u001b[38;5;241m=\u001b[39m JSONDecoder\n",
      "File \u001b[0;32m~/anaconda3/envs/fraud_detection/lib/python3.9/json/decoder.py:337\u001b[0m, in \u001b[0;36mJSONDecoder.decode\u001b[0;34m(self, s, _w)\u001b[0m\n\u001b[1;32m    332\u001b[0m \u001b[38;5;28;01mdef\u001b[39;00m \u001b[38;5;21mdecode\u001b[39m(\u001b[38;5;28mself\u001b[39m, s, _w\u001b[38;5;241m=\u001b[39mWHITESPACE\u001b[38;5;241m.\u001b[39mmatch):\n\u001b[1;32m    333\u001b[0m \u001b[38;5;250m    \u001b[39m\u001b[38;5;124;03m\"\"\"Return the Python representation of ``s`` (a ``str`` instance\u001b[39;00m\n\u001b[1;32m    334\u001b[0m \u001b[38;5;124;03m    containing a JSON document).\u001b[39;00m\n\u001b[1;32m    335\u001b[0m \n\u001b[1;32m    336\u001b[0m \u001b[38;5;124;03m    \"\"\"\u001b[39;00m\n\u001b[0;32m--> 337\u001b[0m     obj, end \u001b[38;5;241m=\u001b[39m \u001b[38;5;28;43mself\u001b[39;49m\u001b[38;5;241;43m.\u001b[39;49m\u001b[43mraw_decode\u001b[49m\u001b[43m(\u001b[49m\u001b[43ms\u001b[49m\u001b[43m,\u001b[49m\u001b[43m \u001b[49m\u001b[43midx\u001b[49m\u001b[38;5;241;43m=\u001b[39;49m\u001b[43m_w\u001b[49m\u001b[43m(\u001b[49m\u001b[43ms\u001b[49m\u001b[43m,\u001b[49m\u001b[43m \u001b[49m\u001b[38;5;241;43m0\u001b[39;49m\u001b[43m)\u001b[49m\u001b[38;5;241;43m.\u001b[39;49m\u001b[43mend\u001b[49m\u001b[43m(\u001b[49m\u001b[43m)\u001b[49m\u001b[43m)\u001b[49m\n\u001b[1;32m    338\u001b[0m     end \u001b[38;5;241m=\u001b[39m _w(s, end)\u001b[38;5;241m.\u001b[39mend()\n\u001b[1;32m    339\u001b[0m     \u001b[38;5;28;01mif\u001b[39;00m end \u001b[38;5;241m!=\u001b[39m \u001b[38;5;28mlen\u001b[39m(s):\n",
      "File \u001b[0;32m~/anaconda3/envs/fraud_detection/lib/python3.9/json/decoder.py:355\u001b[0m, in \u001b[0;36mJSONDecoder.raw_decode\u001b[0;34m(self, s, idx)\u001b[0m\n\u001b[1;32m    353\u001b[0m     obj, end \u001b[38;5;241m=\u001b[39m \u001b[38;5;28mself\u001b[39m\u001b[38;5;241m.\u001b[39mscan_once(s, idx)\n\u001b[1;32m    354\u001b[0m \u001b[38;5;28;01mexcept\u001b[39;00m \u001b[38;5;167;01mStopIteration\u001b[39;00m \u001b[38;5;28;01mas\u001b[39;00m err:\n\u001b[0;32m--> 355\u001b[0m     \u001b[38;5;28;01mraise\u001b[39;00m JSONDecodeError(\u001b[38;5;124m\"\u001b[39m\u001b[38;5;124mExpecting value\u001b[39m\u001b[38;5;124m\"\u001b[39m, s, err\u001b[38;5;241m.\u001b[39mvalue) \u001b[38;5;28;01mfrom\u001b[39;00m \u001b[38;5;28;01mNone\u001b[39;00m\n\u001b[1;32m    356\u001b[0m \u001b[38;5;28;01mreturn\u001b[39;00m obj, end\n",
      "\u001b[0;31mJSONDecodeError\u001b[0m: Expecting value: line 1 column 1 (char 0)"
     ]
    }
   ],
   "source": [
    "label_images_with_annotations(\"dataset/findit2/train.txt\", \"dataset/findit2/train\")"
   ]
  }
 ],
 "metadata": {
  "kernelspec": {
   "display_name": "Python 3 (ipykernel)",
   "language": "python",
   "name": "python3"
  },
  "language_info": {
   "codemirror_mode": {
    "name": "ipython",
    "version": 3
   },
   "file_extension": ".py",
   "mimetype": "text/x-python",
   "name": "python",
   "nbconvert_exporter": "python",
   "pygments_lexer": "ipython3",
   "version": "3.9.17"
  }
 },
 "nbformat": 4,
 "nbformat_minor": 5
}
